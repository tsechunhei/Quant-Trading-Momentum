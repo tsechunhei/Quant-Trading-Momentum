{
  "nbformat": 4,
  "nbformat_minor": 0,
  "metadata": {
    "colab": {
      "name": "Fina4359 project",
      "provenance": [],
      "collapsed_sections": []
    },
    "kernelspec": {
      "display_name": "Python 3",
      "name": "python3"
    },
    "language_info": {
      "name": "python"
    }
  },
  "cells": [
    {
      "cell_type": "code",
      "metadata": {
        "colab": {
          "base_uri": "https://localhost:8080/"
        },
        "id": "I9fdXtgNR7zr",
        "outputId": "1fa33a66-031a-4016-9e79-da96d6cdf33f"
      },
      "source": [
        "pip install Cython"
      ],
      "execution_count": null,
      "outputs": [
        {
          "output_type": "stream",
          "text": [
            "Requirement already satisfied: Cython in /usr/local/lib/python3.7/dist-packages (0.29.23)\n"
          ],
          "name": "stdout"
        }
      ]
    },
    {
      "cell_type": "code",
      "metadata": {
        "id": "Hn2DGOEvxDD6"
      },
      "source": [
        "pip install --upgrade git+https://github.com/statsmodels/statsmodels\n"
      ],
      "execution_count": null,
      "outputs": []
    },
    {
      "cell_type": "code",
      "metadata": {
        "id": "fH3X9USA-RLg"
      },
      "source": [
        "pip install stargazer"
      ],
      "execution_count": null,
      "outputs": []
    },
    {
      "cell_type": "code",
      "metadata": {
        "id": "okDNkb74CsYy"
      },
      "source": [
        "import statsmodels.api as smf\n",
        "import statsmodels.formula.api as sm\n",
        "from statsmodels.regression.rolling import RollingOLS\n",
        "import pandas as pd\n",
        "import numpy as np\n",
        "from datetime import datetime\n",
        "import matplotlib.pyplot as plt\n",
        "import scipy as sp "
      ],
      "execution_count": null,
      "outputs": []
    },
    {
      "cell_type": "code",
      "metadata": {
        "id": "FZif9_tbC1-v"
      },
      "source": [
        "def end_of_month(x):\n",
        "    if not isinstance(x, str):\n",
        "        return x\n",
        "    return str(pd.to_datetime(x) + pd.tseries.offsets.MonthEnd(0))[:10]"
      ],
      "execution_count": null,
      "outputs": []
    },
    {
      "cell_type": "code",
      "metadata": {
        "id": "dZ5KgG1NDag7"
      },
      "source": [
        "msf = pd.read_parquet('msf.parquet',columns = ['permno', 'date', 'prc', 'shrout', 'hexcd', 'ret'])\n",
        "msf = msf.loc[msf['date'] > '1964-12-31']\n",
        "msf = msf[msf['hexcd'].isin(set([1,2,3]))]\n",
        "msf = msf.assign(end_of_month = lambda df: df['date'].apply(end_of_month))"
      ],
      "execution_count": null,
      "outputs": []
    },
    {
      "cell_type": "code",
      "metadata": {
        "id": "fjWWccueXmaW"
      },
      "source": [
        "four_factor_monthly = pd.read_parquet('four_factor_monthly.parquet')\n",
        "four_factor_monthly = four_factor_monthly.loc[four_factor_monthly['dt'] > '1964-12-31']\n",
        "four_factor_monthly = four_factor_monthly.assign(end_of_month = lambda df: df['dt'].apply(end_of_month)) #Sample period starts from 1965"
      ],
      "execution_count": null,
      "outputs": []
    },
    {
      "cell_type": "code",
      "metadata": {
        "id": "bQFe2sRcAApJ"
      },
      "source": [
        "merge = pd.merge(msf, four_factor_monthly, on = 'end_of_month')\n",
        "merge = merge.sort_values(['permno', 'date']).reset_index(drop=True)\n",
        "merge['ret_rf'] = merge['ret'] - merge['rf']\n",
        "merge['market_cap'] = abs(merge['prc'] * merge['shrout'])"
      ],
      "execution_count": null,
      "outputs": []
    },
    {
      "cell_type": "code",
      "metadata": {
        "colab": {
          "base_uri": "https://localhost:8080/"
        },
        "id": "GlAZmwhaZ62q",
        "outputId": "5c340bda-bee0-4cbb-9ce7-2782611ce896"
      },
      "source": [
        "len(merge)"
      ],
      "execution_count": null,
      "outputs": [
        {
          "output_type": "execute_result",
          "data": {
            "text/plain": [
              "4023201"
            ]
          },
          "metadata": {
            "tags": []
          },
          "execution_count": 60
        }
      ]
    },
    {
      "cell_type": "markdown",
      "metadata": {
        "id": "TKkMeGd_dsP_"
      },
      "source": [
        "Rolling Regression for each permno\n"
      ]
    },
    {
      "cell_type": "code",
      "metadata": {
        "id": "qvBNyMbk5YYR"
      },
      "source": [
        "container = pd.read_parquet('coeff.parquet')\n",
        "merge[['constant', 'beta']] = container \n",
        "merge['residual'] = merge['ret_rf'] - merge['constant'] - merge['beta']*merge['mkt_rf']"
      ],
      "execution_count": null,
      "outputs": []
    },
    {
      "cell_type": "code",
      "metadata": {
        "id": "hbT4c7TxfgBs"
      },
      "source": [
        "#empty dataframe to hold the coefficients\n",
        "#It is essentially a grouped rolling regression with window = 36 months \n",
        "container = pd.DataFrame(columns = ['const', 'mkt_rf'])\n",
        "for i in range (10000, int(merge['permno'].max())+1):\n",
        "  temp = merge.loc[merge['permno'] == i]\n",
        "  if temp.shape[0] <36:\n",
        "    pass\n",
        "  else:\n",
        "    fit = RollingOLS(temp['ret_rf'], smf.add_constant(temp['mkt_rf']), window = 36).fit()\n",
        "    params = fit.params\n",
        "    container = container.append(params)\n",
        "  \n",
        "merge[['constant', 'beta']] = container \n",
        "merge['residual'] = merge['ret_rf'] - merge['constant'] - merge['beta']*merge['mkt_rf']\n"
      ],
      "execution_count": null,
      "outputs": []
    },
    {
      "cell_type": "markdown",
      "metadata": {
        "id": "LkwIzCPwjUBK"
      },
      "source": [
        "Create Lag variables"
      ]
    },
    {
      "cell_type": "code",
      "metadata": {
        "id": "gqLfSDcukcpi"
      },
      "source": [
        "merge['market_cap_lag1'] = merge.groupby(['permno'])['market_cap'].shift(1)\n",
        "merge['ret_lag1'] = merge.groupby(['permno'])['ret'].shift(1)\n",
        "merge['prc_lag1'] = merge.groupby(['permno'])['prc'].shift(1).abs()\n",
        "merge['prc_lag13'] = merge.groupby(['permno'])['prc'].shift(13).abs()"
      ],
      "execution_count": null,
      "outputs": []
    },
    {
      "cell_type": "markdown",
      "metadata": {
        "id": "x-XRg4Brhe5e"
      },
      "source": [
        "Calculate Rolling Return"
      ]
    },
    {
      "cell_type": "code",
      "metadata": {
        "id": "JH-YkKkihiqA"
      },
      "source": [
        "# Rolling Residual\n",
        "def rolling_prod(a, n=11) :\n",
        "    ret = np.cumprod(a.values)\n",
        "    ret[n:] = ret[n:] / ret[:-n]\n",
        "    ret[:n-1] = np.nan\n",
        "    return pd.Series(ret, index=a.index)\n",
        "\n",
        "merge['rolling_residual_11_months'] = (\n",
        "    merge\n",
        "    .assign(ret=(merge['residual'].fillna(0)+1))\n",
        "    .groupby('permno')['ret']\n",
        "    .apply(rolling_prod)\n",
        ") - 1\n",
        "\n",
        "#Rolling Return\n",
        "def rolling_prod(a, n=11) :\n",
        "    ret = np.cumprod(a.values)\n",
        "    ret[n:] = ret[n:] / ret[:-n]\n",
        "    ret[:n-1] = np.nan\n",
        "    return pd.Series(ret, index=a.index)\n",
        "\n",
        "merge['rolling_return_11_months'] = (\n",
        "    merge\n",
        "    .assign(ret=(merge['ret'].fillna(0)+1))\n",
        "    .groupby('permno')['ret']\n",
        "    .apply(rolling_prod)\n",
        ") - 1\n"
      ],
      "execution_count": null,
      "outputs": []
    },
    {
      "cell_type": "markdown",
      "metadata": {
        "id": "NArHntMfwrp5"
      },
      "source": [
        "Need a full previous year of data As required by the author"
      ]
    },
    {
      "cell_type": "code",
      "metadata": {
        "id": "k7NAe5UVylUN"
      },
      "source": [
        "merge['rollvalidobs'] = (\n",
        "    merge\n",
        "    .assign(ret=merge['residual'].notnull())\n",
        "    .groupby('permno')['ret']\n",
        "    .rolling(12)\n",
        "    .sum()\n",
        ").reset_index([0], drop=True)\n",
        "\n",
        "merge['rollvalidobs_lag1'] = merge.groupby(['permno'])['rollvalidobs'].shift(1)"
      ],
      "execution_count": null,
      "outputs": []
    },
    {
      "cell_type": "markdown",
      "metadata": {
        "id": "nbBQ0Z-qtM-b"
      },
      "source": [
        "Ordinary Momentum and Residual Momentum"
      ]
    },
    {
      "cell_type": "code",
      "metadata": {
        "id": "ohl571-etV4D"
      },
      "source": [
        "merge['Momentum'] = merge.groupby('permno')['rolling_return_11_months'].shift(2)\n",
        "merge['Residual_Momentum'] = merge.groupby('permno')['rolling_residual_11_months'].shift(2)"
      ],
      "execution_count": null,
      "outputs": []
    },
    {
      "cell_type": "markdown",
      "metadata": {
        "id": "YCpp4nd-3iKe"
      },
      "source": [
        "Apply all the requirement and filtering: "
      ]
    },
    {
      "cell_type": "code",
      "metadata": {
        "id": "5JiFfieX3w6I"
      },
      "source": [
        "merge2 = merge[\n",
        "    (\n",
        "        merge['Momentum'].notnull() &\n",
        "        merge['Residual_Momentum'].notnull() & \n",
        "        merge['ret'].notnull() &          \n",
        "        merge['market_cap_lag1'].notnull() &    \n",
        "        merge['prc_lag13'].notnull() & \n",
        "        (merge['rollvalidobs_lag1'] == 12) &    \n",
        "        merge['prc_lag13'].notnull()     \n",
        "    )\n",
        "].copy().reset_index(drop=True)"
      ],
      "execution_count": null,
      "outputs": []
    },
    {
      "cell_type": "markdown",
      "metadata": {
        "id": "K7CMMQlV0n6l"
      },
      "source": [
        "TEST"
      ]
    },
    {
      "cell_type": "code",
      "metadata": {
        "colab": {
          "base_uri": "https://localhost:8080/"
        },
        "id": "H-AbdDg3ifZp",
        "outputId": "20f392f0-faa7-4a6a-eedf-60e13f09ae8f"
      },
      "source": [
        "len(merge2)"
      ],
      "execution_count": null,
      "outputs": [
        {
          "output_type": "execute_result",
          "data": {
            "text/plain": [
              "2661124"
            ]
          },
          "metadata": {
            "tags": []
          },
          "execution_count": 80
        }
      ]
    },
    {
      "cell_type": "markdown",
      "metadata": {
        "id": "nJ7umTrIwRJo"
      },
      "source": [
        "Apply quantiles"
      ]
    },
    {
      "cell_type": "code",
      "metadata": {
        "id": "wD5hA118wKN1"
      },
      "source": [
        "def apply_quantiles(x, include_in_quantiles=None, bins=5):\n",
        "    \n",
        "    if include_in_quantiles is None:\n",
        "        include_in_quantiles = [True] * len(x)\n",
        "        \n",
        "    x = pd.Series(x)\n",
        "    quantiles = np.quantile(\n",
        "        x[x.notnull() & include_in_quantiles],\n",
        "        np.linspace(0, 1, bins+1)\n",
        "    )\n",
        "    quantiles[0] = x.min() - 1\n",
        "    quantiles[-1] = x.max() + 1\n",
        "    \n",
        "    return pd.cut(x, quantiles, labels=False) + 1\n"
      ],
      "execution_count": null,
      "outputs": []
    },
    {
      "cell_type": "markdown",
      "metadata": {
        "id": "taj5wR2zwUNY"
      },
      "source": [
        "Delete null value"
      ]
    },
    {
      "cell_type": "code",
      "metadata": {
        "id": "5-ewYfHkwW1v"
      },
      "source": [
        "merge2 = merge2[merge2.Residual_Momentum.notnull()]"
      ],
      "execution_count": null,
      "outputs": []
    },
    {
      "cell_type": "markdown",
      "metadata": {
        "id": "BmyymZb5wfKh"
      },
      "source": [
        "Construct bins"
      ]
    },
    {
      "cell_type": "code",
      "metadata": {
        "id": "95VuMU3twgf3"
      },
      "source": [
        "merge2['bin'] = (\n",
        "    merge2\n",
        "    .groupby('date')\n",
        "    .apply(lambda group: apply_quantiles(group['Residual_Momentum'], bins=5, include_in_quantiles=(group['hexcd']==1)))\n",
        ").reset_index(level=[0], drop=True).sort_index()"
      ],
      "execution_count": null,
      "outputs": []
    },
    {
      "cell_type": "markdown",
      "metadata": {
        "id": "zpRTzUvpwtEc"
      },
      "source": [
        "Construct portfolio return"
      ]
    },
    {
      "cell_type": "code",
      "metadata": {
        "id": "Y3pu-VYnwys1",
        "colab": {
          "base_uri": "https://localhost:8080/",
          "height": 202
        },
        "outputId": "782b0aae-2c84-4052-f6cc-ee7a80b47606"
      },
      "source": [
        "portfolios = (\n",
        "    merge2\n",
        "    .groupby(['date', 'bin'])\n",
        "    .apply(\n",
        "        lambda g: pd.Series({\n",
        "            'portfolio_ew': g['ret_rf'].mean(),\n",
        "            'portfolio_vw': (g['ret_rf'] * g['market_cap_lag1']).sum() / g['market_cap_lag1'].sum()\n",
        "        })\n",
        "    )\n",
        ").reset_index()\n",
        "\n",
        "portfolios.head()"
      ],
      "execution_count": null,
      "outputs": [
        {
          "output_type": "execute_result",
          "data": {
            "text/html": [
              "<div>\n",
              "<style scoped>\n",
              "    .dataframe tbody tr th:only-of-type {\n",
              "        vertical-align: middle;\n",
              "    }\n",
              "\n",
              "    .dataframe tbody tr th {\n",
              "        vertical-align: top;\n",
              "    }\n",
              "\n",
              "    .dataframe thead th {\n",
              "        text-align: right;\n",
              "    }\n",
              "</style>\n",
              "<table border=\"1\" class=\"dataframe\">\n",
              "  <thead>\n",
              "    <tr style=\"text-align: right;\">\n",
              "      <th></th>\n",
              "      <th>date</th>\n",
              "      <th>bin</th>\n",
              "      <th>portfolio_ew</th>\n",
              "      <th>portfolio_vw</th>\n",
              "    </tr>\n",
              "  </thead>\n",
              "  <tbody>\n",
              "    <tr>\n",
              "      <th>0</th>\n",
              "      <td>1968-12-31</td>\n",
              "      <td>1</td>\n",
              "      <td>0.005271</td>\n",
              "      <td>-0.043703</td>\n",
              "    </tr>\n",
              "    <tr>\n",
              "      <th>1</th>\n",
              "      <td>1968-12-31</td>\n",
              "      <td>2</td>\n",
              "      <td>0.007702</td>\n",
              "      <td>-0.037765</td>\n",
              "    </tr>\n",
              "    <tr>\n",
              "      <th>2</th>\n",
              "      <td>1968-12-31</td>\n",
              "      <td>3</td>\n",
              "      <td>0.010591</td>\n",
              "      <td>-0.031163</td>\n",
              "    </tr>\n",
              "    <tr>\n",
              "      <th>3</th>\n",
              "      <td>1968-12-31</td>\n",
              "      <td>4</td>\n",
              "      <td>0.014538</td>\n",
              "      <td>-0.042257</td>\n",
              "    </tr>\n",
              "    <tr>\n",
              "      <th>4</th>\n",
              "      <td>1968-12-31</td>\n",
              "      <td>5</td>\n",
              "      <td>-0.008755</td>\n",
              "      <td>-0.039486</td>\n",
              "    </tr>\n",
              "  </tbody>\n",
              "</table>\n",
              "</div>"
            ],
            "text/plain": [
              "         date  bin  portfolio_ew  portfolio_vw\n",
              "0  1968-12-31    1      0.005271     -0.043703\n",
              "1  1968-12-31    2      0.007702     -0.037765\n",
              "2  1968-12-31    3      0.010591     -0.031163\n",
              "3  1968-12-31    4      0.014538     -0.042257\n",
              "4  1968-12-31    5     -0.008755     -0.039486"
            ]
          },
          "metadata": {
            "tags": []
          },
          "execution_count": 110
        }
      ]
    },
    {
      "cell_type": "markdown",
      "metadata": {
        "id": "HNsj3bq7w5s1"
      },
      "source": [
        "Winners minus losers portfolio"
      ]
    },
    {
      "cell_type": "code",
      "metadata": {
        "id": "_ahTs0mGw89t",
        "colab": {
          "base_uri": "https://localhost:8080/",
          "height": 309
        },
        "outputId": "3ac4ae59-3abe-404c-c7db-9f07be1c4ac2"
      },
      "source": [
        "portfolios2 = pd.merge(\n",
        "    portfolios.query('bin==5'),\n",
        "    portfolios.query('bin==1'),\n",
        "    suffixes=['_long', '_short'],\n",
        "    on='date'\n",
        ")\n",
        "\n",
        "portfolios2['strategy_ew'] = portfolios2['portfolio_ew_long'] - portfolios2['portfolio_ew_short']\n",
        "portfolios2['strategy_vw'] = portfolios2['portfolio_vw_long'] - portfolios2['portfolio_vw_short']\n",
        "\n",
        "portfolios2.head()"
      ],
      "execution_count": null,
      "outputs": [
        {
          "output_type": "execute_result",
          "data": {
            "text/html": [
              "<div>\n",
              "<style scoped>\n",
              "    .dataframe tbody tr th:only-of-type {\n",
              "        vertical-align: middle;\n",
              "    }\n",
              "\n",
              "    .dataframe tbody tr th {\n",
              "        vertical-align: top;\n",
              "    }\n",
              "\n",
              "    .dataframe thead th {\n",
              "        text-align: right;\n",
              "    }\n",
              "</style>\n",
              "<table border=\"1\" class=\"dataframe\">\n",
              "  <thead>\n",
              "    <tr style=\"text-align: right;\">\n",
              "      <th></th>\n",
              "      <th>date</th>\n",
              "      <th>bin_long</th>\n",
              "      <th>portfolio_ew_long</th>\n",
              "      <th>portfolio_vw_long</th>\n",
              "      <th>bin_short</th>\n",
              "      <th>portfolio_ew_short</th>\n",
              "      <th>portfolio_vw_short</th>\n",
              "      <th>strategy_ew</th>\n",
              "      <th>strategy_vw</th>\n",
              "    </tr>\n",
              "  </thead>\n",
              "  <tbody>\n",
              "    <tr>\n",
              "      <th>0</th>\n",
              "      <td>1968-12-31</td>\n",
              "      <td>5</td>\n",
              "      <td>-0.008755</td>\n",
              "      <td>-0.039486</td>\n",
              "      <td>1</td>\n",
              "      <td>0.005271</td>\n",
              "      <td>-0.043703</td>\n",
              "      <td>-0.014026</td>\n",
              "      <td>0.004217</td>\n",
              "    </tr>\n",
              "    <tr>\n",
              "      <th>1</th>\n",
              "      <td>1969-01-31</td>\n",
              "      <td>5</td>\n",
              "      <td>-0.005766</td>\n",
              "      <td>-0.011136</td>\n",
              "      <td>1</td>\n",
              "      <td>-0.011753</td>\n",
              "      <td>-0.022777</td>\n",
              "      <td>0.005987</td>\n",
              "      <td>0.011641</td>\n",
              "    </tr>\n",
              "    <tr>\n",
              "      <th>2</th>\n",
              "      <td>1969-02-28</td>\n",
              "      <td>5</td>\n",
              "      <td>-0.096841</td>\n",
              "      <td>-0.072260</td>\n",
              "      <td>1</td>\n",
              "      <td>-0.111730</td>\n",
              "      <td>-0.088724</td>\n",
              "      <td>0.014889</td>\n",
              "      <td>0.016464</td>\n",
              "    </tr>\n",
              "    <tr>\n",
              "      <th>3</th>\n",
              "      <td>1969-03-28</td>\n",
              "      <td>5</td>\n",
              "      <td>0.038720</td>\n",
              "      <td>0.037676</td>\n",
              "      <td>1</td>\n",
              "      <td>-0.000548</td>\n",
              "      <td>0.021189</td>\n",
              "      <td>0.039268</td>\n",
              "      <td>0.016488</td>\n",
              "    </tr>\n",
              "    <tr>\n",
              "      <th>4</th>\n",
              "      <td>1969-04-30</td>\n",
              "      <td>5</td>\n",
              "      <td>0.002564</td>\n",
              "      <td>0.017236</td>\n",
              "      <td>1</td>\n",
              "      <td>-0.009349</td>\n",
              "      <td>0.016588</td>\n",
              "      <td>0.011914</td>\n",
              "      <td>0.000649</td>\n",
              "    </tr>\n",
              "  </tbody>\n",
              "</table>\n",
              "</div>"
            ],
            "text/plain": [
              "         date  bin_long  ...  strategy_ew  strategy_vw\n",
              "0  1968-12-31         5  ...    -0.014026     0.004217\n",
              "1  1969-01-31         5  ...     0.005987     0.011641\n",
              "2  1969-02-28         5  ...     0.014889     0.016464\n",
              "3  1969-03-28         5  ...     0.039268     0.016488\n",
              "4  1969-04-30         5  ...     0.011914     0.000649\n",
              "\n",
              "[5 rows x 9 columns]"
            ]
          },
          "metadata": {
            "tags": []
          },
          "execution_count": 111
        }
      ]
    },
    {
      "cell_type": "markdown",
      "metadata": {
        "id": "KxYi-Lw0sRv0"
      },
      "source": [
        "Benchmark on Fama French and CAPM Model"
      ]
    },
    {
      "cell_type": "code",
      "metadata": {
        "id": "KXXPyBBFJd7h"
      },
      "source": [
        "EW_1_fit = sm.ols('strategy_ew ~ 1 + mkt_rf', data=pd.merge(four_factor_monthly, portfolios2, on='end_of_month')).fit()\n",
        "EW_1 = EW_2_fit.params\n",
        "\n",
        "\n",
        "EW_2_fit = sm.ols('strategy_ew ~ 1 + mkt_rf + smb + hml', data=pd.merge(four_factor_monthly, portfolios2, on='end_of_month')).fit()\n",
        "EW_2 = EW_2_fit.params\n",
        "\n",
        "\n",
        "EW_3_fit = sm.ols('strategy_ew ~ 1 + mkt_rf + smb + hml + Mom', data=pd.merge(four_factor_monthly, portfolios2, on='end_of_month')).fit()\n",
        "EW_3 = EW_3_fit.params\n",
        "\n",
        "\n",
        "VW_1_fit = sm.ols('strategy_vw ~ 1 + mkt_rf', data=pd.merge(four_factor_monthly, portfolios2, on='end_of_month')).fit()\n",
        "VW_1 = VW_1_fit.params\n",
        "\n",
        "\n",
        "VW_2_fit = sm.ols('strategy_vw ~ 1 + mkt_rf + smb + hml', data=pd.merge(four_factor_monthly, portfolios2, on='end_of_month')).fit()\n",
        "VW_2 = VW_2_fit.params\n",
        "\n",
        "\n",
        "VW_3_fit = sm.ols('strategy_vw ~ 1 + mkt_rf + smb + hml + Mom', data=pd.merge(four_factor_monthly, portfolios2, on='end_of_month')).fit()\n",
        "VW_3 = VW_3_fit.params\n",
        "\n",
        "test = sm.ols('strategy_vw ~ 1 + Mom', data=pd.merge(four_factor_monthly, portfolios2, on='end_of_month')).fit()"
      ],
      "execution_count": null,
      "outputs": []
    },
    {
      "cell_type": "code",
      "metadata": {
        "id": "r-l23EylF2vl"
      },
      "source": [
        "portfolios3 = pd.merge(portfolios2, five_factor_monthly, on = 'end_of_month')"
      ],
      "execution_count": null,
      "outputs": []
    },
    {
      "cell_type": "code",
      "metadata": {
        "id": "3iCa-3xbaq3P"
      },
      "source": [
        "\n",
        "mkt_rf = sm.ols('strategy_ew ~ 1 + mkt_rf', data=portfolios3).fit()\n",
        "\n",
        "hml = sm.ols('strategy_ew ~ 1 + hml', data=portfolios3).fit()\n",
        "\n",
        "smb = sm.ols('strategy_ew ~ 1 + smb', data=portfolios3).fit()\n",
        "\n",
        "\n",
        "cma = sm.ols('strategy_ew ~ 1 + cma', data=portfolios3).fit()\n",
        "\n",
        "rmw = sm.ols('strategy_ew ~ 1+ rmw', data=portfolios3).fit()"
      ],
      "execution_count": null,
      "outputs": []
    },
    {
      "cell_type": "code",
      "metadata": {
        "colab": {
          "base_uri": "https://localhost:8080/"
        },
        "id": "HJ8zhNbxegVa",
        "outputId": "fa2f7d57-a7b2-4924-8e4e-407f4586a629"
      },
      "source": [
        "print(smf.iolib.summary2.summary_col([mkt_rf,hml,smb,cma,rmw,test], stars = True))"
      ],
      "execution_count": null,
      "outputs": [
        {
          "output_type": "stream",
          "text": [
            "\n",
            "============================================================================================================\n",
            "               strategy_ew I strategy_ew II strategy_ew III strategy_ew IIII strategy_ew IIIII strategy_vw I\n",
            "------------------------------------------------------------------------------------------------------------\n",
            "Intercept      0.0090***     0.0081***      0.0082***       0.0074***        0.0073***         0.0028***    \n",
            "               (0.0013)      (0.0014)       (0.0014)        (0.0014)         (0.0014)          (0.0010)     \n",
            "Mom                                                                                            0.7454***    \n",
            "                                                                                               (0.0241)     \n",
            "R-squared      0.0559        0.0001         0.0237          0.0197           0.0280            0.6071       \n",
            "R-squared Adj. 0.0543        -0.0015        0.0221          0.0182           0.0264            0.6064       \n",
            "cma                                                         0.2413***                                       \n",
            "                                                            (0.0682)                                        \n",
            "hml                          0.0111                                                                         \n",
            "                             (0.0465)                                                                       \n",
            "mkt_rf         -0.1779***                                                                                   \n",
            "               (0.0293)                                                                                     \n",
            "rmw                                                                          0.2599***                      \n",
            "                                                                             (0.0615)                       \n",
            "smb                                         -0.1747***                                                      \n",
            "                                            (0.0450)                                                        \n",
            "============================================================================================================\n",
            "Standard errors in parentheses.\n",
            "* p<.1, ** p<.05, ***p<.01\n"
          ],
          "name": "stdout"
        }
      ]
    },
    {
      "cell_type": "code",
      "metadata": {
        "colab": {
          "base_uri": "https://localhost:8080/"
        },
        "id": "HehucwCFCaZY",
        "outputId": "68601f04-49d1-4b27-ac9d-1990f6920f2c"
      },
      "source": [
        "print(smf.iolib.summary2.summary_col([EW_1_fit,EW_2_fit,EW_3_fit,VW_1_fit,VW_2_fit,VW_3_fit], stars = True))"
      ],
      "execution_count": null,
      "outputs": [
        {
          "output_type": "stream",
          "text": [
            "\n",
            "========================================================================================================\n",
            "               strategy_ew I strategy_ew II strategy_ew III strategy_vw I strategy_vw II strategy_vw III\n",
            "--------------------------------------------------------------------------------------------------------\n",
            "Intercept      0.0090***     0.0092***      0.0036***       0.0086***     0.0090***      0.0023**       \n",
            "               (0.0013)      (0.0014)       (0.0008)        (0.0016)      (0.0016)       (0.0011)       \n",
            "Mom                                         0.6465***                                    0.7609***      \n",
            "                                            (0.0195)                                     (0.0248)       \n",
            "R-squared      0.0559        0.0643         0.6628          0.0440        0.0506         0.6245         \n",
            "R-squared Adj. 0.0543        0.0598         0.6606          0.0425        0.0460         0.6220         \n",
            "hml                          -0.0690        0.1385***                     -0.0771        0.1671***      \n",
            "                             (0.0468)       (0.0288)                      (0.0566)       (0.0365)       \n",
            "mkt_rf         -0.1779***    -0.1694***     -0.0072         -0.1898***    -0.2179***     -0.0269        \n",
            "               (0.0293)      (0.0314)       (0.0195)        (0.0355)      (0.0380)       (0.0247)       \n",
            "smb                          -0.0925**      -0.0760***                    0.0771         0.0966***      \n",
            "                             (0.0461)       (0.0277)                      (0.0558)       (0.0351)       \n",
            "========================================================================================================\n",
            "Standard errors in parentheses.\n",
            "* p<.1, ** p<.05, ***p<.01\n"
          ],
          "name": "stdout"
        }
      ]
    },
    {
      "cell_type": "markdown",
      "metadata": {
        "id": "g50dEsiKw_bc"
      },
      "source": [
        "Sharpe ratios"
      ]
    },
    {
      "cell_type": "code",
      "metadata": {
        "id": "3fMYYuL4xL8F",
        "colab": {
          "base_uri": "https://localhost:8080/"
        },
        "outputId": "64a03855-8a00-4402-beff-4e9cdc051640"
      },
      "source": [
        "def sharpe(x):\n",
        "    return x.mean() / x.std()\n",
        "sharpe_vw = sharpe(portfolios2['strategy_vw'])\n",
        "print('annualized value-weighted sharpe ratio {}'.format(sharpe_vw * 12**0.5))\n",
        "sharpe_ew = sharpe(portfolios2['strategy_ew'])\n",
        "print('annualized equal-weighted sharpe ratio {}'.format(sharpe_ew * 12**0.5))"
      ],
      "execution_count": null,
      "outputs": [
        {
          "output_type": "stream",
          "text": [
            "annualized value-weighted sharpe ratio 0.6419897558493332\n",
            "annualized equal-weighted sharpe ratio 0.8194886990620057\n"
          ],
          "name": "stdout"
        }
      ]
    },
    {
      "cell_type": "markdown",
      "metadata": {
        "id": "ne--cj2ww5k8"
      },
      "source": [
        "Plot a value-weighted cumulative return"
      ]
    },
    {
      "cell_type": "code",
      "metadata": {
        "id": "3f4V_bEgxYhF",
        "colab": {
          "base_uri": "https://localhost:8080/",
          "height": 416
        },
        "outputId": "e34e20b4-8cd7-431d-9f0d-1376c1cf2555"
      },
      "source": [
        "plt.rcParams[\"figure.figsize\"] = (10,7)\n",
        "portfolios2 = portfolios2.sort_values('date') \n",
        "portfolios2['cum_vw'] = (portfolios2['strategy_vw'] + 1).cumprod() - 1\n",
        "portfolios2['cum_ew'] = (portfolios2['strategy_ew'] + 1).cumprod() - 1\n",
        "(\n",
        "    portfolios2\n",
        "    .assign(date=pd.to_datetime(portfolios2['date']))\n",
        "    .assign(cum_vw=portfolios2['cum_vw']+1)\n",
        "    .assign(cum_ew=portfolios2['cum_ew']+1)\n",
        "    .plot(x='date', y=['cum_vw','cum_ew'] , logy=True).grid(axis='y')\n",
        ")"
      ],
      "execution_count": null,
      "outputs": [
        {
          "output_type": "display_data",
          "data": {
            "image/png": "[encoded data removed]",
            "text/plain": [
              "<Figure size 720x504 with 1 Axes>"
            ]
          },
          "metadata": {
            "tags": [],
            "needs_background": "light"
          }
        }
      ]
    },
    {
      "cell_type": "markdown",
      "metadata": {
        "id": "32S7_hxXtzpm"
      },
      "source": [
        "Five Factor Model\n"
      ]
    },
    {
      "cell_type": "code",
      "metadata": {
        "id": "zSZd6THot4yv"
      },
      "source": [
        "five_factor_monthly = five_factor_monthly.assign(end_of_month = lambda df: df['dt'].apply(end_of_month)) "
      ],
      "execution_count": null,
      "outputs": []
    }
  ]
}